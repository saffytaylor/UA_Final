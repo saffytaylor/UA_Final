{
 "cells": [
  {
   "cell_type": "markdown",
   "id": "a1d943e6-3af8-4238-934c-3be362d5b7f2",
   "metadata": {},
   "source": [
    "# Method 1: Microsimulation\n",
    "\n",
    "Microsimulation is a method that allows us to create synthetic data to represent a whole population when we don't actually have the data for a whole population. In this case, we're taking data from the British Social Attitudes Survey as our individual granular data, and combining it with census data to create our synthetic data."
   ]
  },
  {
   "cell_type": "markdown",
   "id": "ea68632b-2e24-4d7d-af78-2d08c5a2b8dd",
   "metadata": {},
   "source": [
    "### Step 1: Importing all the necessary packages for our code"
   ]
  },
  {
   "cell_type": "code",
   "execution_count": null,
   "id": "201a4700-ee45-46ad-80f2-c92474189501",
   "metadata": {},
   "outputs": [],
   "source": [
    "import pandas as pd\n",
    "import numpy as np\n",
    "import copy"
   ]
  },
  {
   "cell_type": "markdown",
   "id": "eb1b30a5-7ced-4a2e-a592-90c2df2e3065",
   "metadata": {},
   "source": [
    "### Step 2: Importing our individual-level BSA data and our constraints"
   ]
  },
  {
   "cell_type": "code",
   "execution_count": null,
   "id": "73201abd-9175-4af1-8e5e-a91e87064ca3",
   "metadata": {},
   "outputs": [],
   "source": [
    "BSA_2020 = pd.read_csv('data/BSA2020/final_bsa_cleaned.csv', low_memory=False)\n",
    "con_age = pd.read_csv('data/census data/con_age.csv')\n",
    "con_sex = pd.read_csv('data/census data/con_sex.csv')"
   ]
  },
  {
   "cell_type": "code",
   "execution_count": null,
   "id": "ed60bde6-8b6d-4bd8-98eb-59c280f3845c",
   "metadata": {},
   "outputs": [],
   "source": [
    "con_age"
   ]
  },
  {
   "cell_type": "code",
   "execution_count": null,
   "id": "a2f8e2a3-020c-4095-9613-dbe978dd5f55",
   "metadata": {},
   "outputs": [],
   "source": []
  }
 ],
 "metadata": {
  "kernelspec": {
   "display_name": "Python 3 (ipykernel)",
   "language": "python",
   "name": "python3"
  },
  "language_info": {
   "codemirror_mode": {
    "name": "ipython",
    "version": 3
   },
   "file_extension": ".py",
   "mimetype": "text/x-python",
   "name": "python",
   "nbconvert_exporter": "python",
   "pygments_lexer": "ipython3",
   "version": "3.11.6"
  }
 },
 "nbformat": 4,
 "nbformat_minor": 5
}
