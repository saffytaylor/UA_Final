{
 "cells": [
  {
   "cell_type": "markdown",
   "id": "551ff7fe-0528-44a3-9cf9-e35a6a896872",
   "metadata": {},
   "source": [
    "# Cleaning the data"
   ]
  },
  {
   "cell_type": "markdown",
   "id": "c1855fd5-f0e4-4ad0-9b11-98e5042bafe6",
   "metadata": {},
   "source": [
    "### Step 1: Importing in the necessary packages"
   ]
  },
  {
   "cell_type": "code",
   "execution_count": null,
   "id": "896c85ee-f38e-4f5f-a6fb-889272242255",
   "metadata": {},
   "outputs": [],
   "source": [
    "import pandas as pd"
   ]
  },
  {
   "cell_type": "markdown",
   "id": "eaf54b7d-e3f1-4967-9b0c-64128b25d5d8",
   "metadata": {},
   "source": [
    "### Step 2: Reading in the CSV we made in RStudio"
   ]
  },
  {
   "cell_type": "code",
   "execution_count": null,
   "id": "7543a557-fd00-4a35-b623-231bd8d9e161",
   "metadata": {},
   "outputs": [],
   "source": [
    "csv_path = \"data/BSA2020/bsa2020.csv\"\n",
    "BSA_2020 = pd.read_csv(csv_path, low_memory=False)"
   ]
  },
  {
   "cell_type": "code",
   "execution_count": null,
   "id": "a11192e1-f8d8-47ce-879d-dd3466db0578",
   "metadata": {
    "scrolled": true
   },
   "outputs": [],
   "source": [
    "BSA_2020.head() # checking our data"
   ]
  },
  {
   "cell_type": "code",
   "execution_count": null,
   "id": "1b2a0224-2ffc-4a64-acb9-6e2273f6087e",
   "metadata": {},
   "outputs": [],
   "source": [
    "BSA_2020.shape # checking the shape of the dataframe - it's all looking good"
   ]
  },
  {
   "cell_type": "markdown",
   "id": "464d475f-beb0-4de7-a6da-10bfda3af87a",
   "metadata": {},
   "source": [
    "### Step 3: Subsetting\n",
    "To be able to create a synthetic population of York, we only want data entries from Yorkshire and Humberside, and we do not need all of these columns, so we will subset for just what we are after."
   ]
  },
  {
   "cell_type": "code",
   "execution_count": null,
   "id": "c55f7120-16bd-4f9a-b02e-ac1e637ee23b",
   "metadata": {},
   "outputs": [],
   "source": [
    "# subsetting for just the Yorkshire and Humberside = indicated with by the value of GOR being 3\n",
    "yorkshire_bsa = BSA_2020.loc[(BSA_2020.GOR == 3)]"
   ]
  },
  {
   "cell_type": "code",
   "execution_count": null,
   "id": "b7cc235f-7c0f-40ea-b474-e4db3c0e1bb9",
   "metadata": {},
   "outputs": [],
   "source": [
    "yorkshire_bsa.shape # that's cut our sample down nicely"
   ]
  },
  {
   "cell_type": "code",
   "execution_count": null,
   "id": "686f6042-b119-4f8b-8d63-2c0286eb8422",
   "metadata": {},
   "outputs": [],
   "source": [
    "# subsetting to only include a fraction of the columns available\n",
    "keep_columns = ['RespAgeE', # age a last birthday, capped at 80+\n",
    "                'RespSx2cat', # respondants sex\n",
    "                'REconSum20', # economic activity\n",
    "                'SupParty', # do they support a party\n",
    "                'PARTYFW', # which party do they follow\n",
    "                'Politics', # do they have an interest in politics\n",
    "                'welfgrp', # opinions on the welfare system\n",
    "                'Redistrb', # pro wealth redistribution?\n",
    "                'leftrigh', # left or right leaning (scaled)\n",
    "                'leftrig2', # left or right leaning (grouped)\n",
    "                'libauth', # liberal vs authoritarian (scaled)\n",
    "                'libauth2', # liberal vs authoritarian (grouped)\n",
    "                'ReligSum20', # do they follow a religion\n",
    "                'BestNatU2', # what nationality best describes them\n",
    "                'RaceOri4', # what race best describes them\n",
    "                'DisActDV', # do they have a long-term condition or disability\n",
    "                'Voted', # did they vote in the last general election\n",
    "                'Vote', # who did they vote for in the last general election\n",
    "               ]"
   ]
  },
  {
   "cell_type": "code",
   "execution_count": null,
   "id": "9208e700-588a-4ce8-9156-ebe24f1d007b",
   "metadata": {},
   "outputs": [],
   "source": [
    "# creating a function to subset columns\n",
    "def subset_dataframe(dataframe, keep_columns):\n",
    "    subset_bsa = pd.DataFrame() # initialises a new results dataframe\n",
    "    for x in keep_columns: # for loop add columns to new dataframe\n",
    "        subset_bsa[x] = dataframe[x]\n",
    "        \n",
    "    return subset_bsa # returns the new dataframe"
   ]
  },
  {
   "cell_type": "code",
   "execution_count": null,
   "id": "f06f561e-ab84-4218-9fe7-de09c342c114",
   "metadata": {},
   "outputs": [],
   "source": [
    "subset_bsa = subset_dataframe(yorkshire_bsa, keep_columns)"
   ]
  },
  {
   "cell_type": "code",
   "execution_count": null,
   "id": "d774813a-e823-499d-928a-7907bb24468c",
   "metadata": {},
   "outputs": [],
   "source": [
    "subset_bsa.shape # we've subset down to a total of 18 columns!"
   ]
  },
  {
   "cell_type": "markdown",
   "id": "6ba43d2f-fb94-4375-8016-2442749a7595",
   "metadata": {},
   "source": [
    "Now we have a nice little subset, we'll export that as a CSV so we don't have to run any of this code again"
   ]
  },
  {
   "cell_type": "code",
   "execution_count": null,
   "id": "b86e8be1-5793-4a10-8037-ab7b7caf3ce2",
   "metadata": {},
   "outputs": [],
   "source": [
    "subset_bsa.to_csv(\"data/BSA2020/subset4_regional_bsa_data.csv\", index=False)\n",
    "#hashtagged out as we have now run this and have no need to run it again!"
   ]
  },
  {
   "cell_type": "markdown",
   "id": "0ea8e3a6-9bb8-4362-a2a9-744f536cb82f",
   "metadata": {},
   "source": [
    "### Step 4: Cleaning the new CSV\n",
    "we don't want to have to have any NaN values so we will clean this dataset to ensure that we remove rows with missing entries so we have a complete dataset to work with."
   ]
  },
  {
   "cell_type": "code",
   "execution_count": null,
   "id": "17d00386-b8a6-44a1-b498-1480024dab1c",
   "metadata": {},
   "outputs": [],
   "source": [
    "# reading back in the CSV so we don't have to rerun all the steps above\n",
    "csv_path_2 = \"data/BSA2020/subset4_regional_bsa_data.csv\"\n",
    "subset_bsa_cleaning = pd.read_csv(csv_path_2, low_memory=False)"
   ]
  },
  {
   "cell_type": "code",
   "execution_count": null,
   "id": "c2381df2-723e-4c99-acc2-c06079cd164c",
   "metadata": {},
   "outputs": [],
   "source": [
    "subset_bsa_cleaning.head() # from just checking the head we can already see columns with NaN values"
   ]
  },
  {
   "cell_type": "code",
   "execution_count": null,
   "id": "b723c1fe-8b52-434a-9d79-da97aa366499",
   "metadata": {},
   "outputs": [],
   "source": [
    "bsa_cleaned = subset_bsa_cleaning.dropna() # this gives us a cleaned dataset with no NAs"
   ]
  },
  {
   "cell_type": "code",
   "execution_count": null,
   "id": "a21da607-59b3-4a27-857a-6bab1e83d1f6",
   "metadata": {},
   "outputs": [],
   "source": [
    "# resetting the index of this data\n",
    "bsa_cleaned.reset_index()"
   ]
  },
  {
   "cell_type": "markdown",
   "id": "52c7e8e6-09a2-4d43-ae47-89b824a132e1",
   "metadata": {},
   "source": [
    "Next we'll rename some of the columns to more descriptive names just to help for analysis later on"
   ]
  },
  {
   "cell_type": "code",
   "execution_count": null,
   "id": "4a235c24-ef82-4ad4-9c61-679861fce198",
   "metadata": {},
   "outputs": [],
   "source": [
    "bsa_cleaned.columns"
   ]
  },
  {
   "cell_type": "code",
   "execution_count": null,
   "id": "80c33b42-98e9-48ae-85e9-78a641aa5f15",
   "metadata": {},
   "outputs": [],
   "source": [
    "new_names = {\n",
    "    'RespAgeE': 'age', # age of respondant at last birthday (capped at 80)\n",
    "    'RespSx2cat': 'sex', # sex of respondant\n",
    "    'REconSum20': 'economic', # economic activity of respondent\n",
    "    'SupParty': 'partySup', # does respondent support a particular party\n",
    "    'PARTYFW': 'partySupWho', # which party do they support (if they had to choose on day of survey)\n",
    "    'Politics': 'polInterest', # do they have an interest in politics\n",
    "    'welfgrp': 'welfare', # opinions on the welfare system\n",
    "    'Redistrb': 'redistrb', # pro wealth redistribution?\n",
    "    'leftrigh': 'leftright', # left or right leaning (scaled)\n",
    "    'leftrig2': 'leftright2', # left or right leaning (grouped)\n",
    "    'libauth': 'libauth', # liberal vs authoritarian (scaled)\n",
    "    'libauth2': 'libauth2', # liberal vs authoritarian (grouped)\n",
    "    'ReligSum20': 'religion', # what religion do they follow\n",
    "    'BestNatU2': 'nationality', # what nationality best describes them\n",
    "    'RaceOri4': 'raceOrigin', # which racial group do they best identify with\n",
    "    'DisActDV': 'disability', # do they have a long-term condition or disability\n",
    "    'Voted': 'voteAct', # did they vote in the last general election\n",
    "    'Vote': 'voteParty', # who did they vote for in the last general election\n",
    "}\n",
    "\n",
    "bsa_cleaned = bsa_cleaned.rename(columns=new_names)"
   ]
  },
  {
   "cell_type": "code",
   "execution_count": null,
   "id": "a5a3550a-83b7-4e2b-944a-e6ed83e2e2bd",
   "metadata": {},
   "outputs": [],
   "source": [
    "bsa_cleaned.head() # looking beautiful and easy to interpret!"
   ]
  },
  {
   "cell_type": "code",
   "execution_count": null,
   "id": "4d1eacc7-56ad-4b73-af28-3c3d3b020210",
   "metadata": {},
   "outputs": [],
   "source": [
    "# adding an id column quickly!\n",
    "bsa_cleaned.insert(0, 'id', range(1000, 1000 + len(bsa_cleaned)))\n",
    "bsa_cleaned.head()"
   ]
  },
  {
   "cell_type": "code",
   "execution_count": null,
   "id": "dbaf33d9-2671-4d8c-b3db-7bcf8a6d9b60",
   "metadata": {},
   "outputs": [],
   "source": [
    "# dropping individuals who refused to answer what age they are\n",
    "bsa_cleaned['age'].unique()\n",
    "bsa_cleaned = bsa_cleaned.drop(bsa_cleaned[bsa_cleaned['age'] == 999].index)"
   ]
  },
  {
   "cell_type": "code",
   "execution_count": null,
   "id": "b04a3cc5-fd63-464c-8d60-1ffbc20c30bf",
   "metadata": {},
   "outputs": [],
   "source": [
    "bsa_cleaned['age'].unique()"
   ]
  },
  {
   "cell_type": "code",
   "execution_count": null,
   "id": "f3b4c264-b102-4f23-9bed-7983110ede06",
   "metadata": {},
   "outputs": [],
   "source": [
    "bsa_cleaned.to_csv(\"data/BSA2020/final_bsa_cleaned.csv\", index=False)"
   ]
  }
 ],
 "metadata": {
  "kernelspec": {
   "display_name": "Python 3 (ipykernel)",
   "language": "python",
   "name": "python3"
  },
  "language_info": {
   "codemirror_mode": {
    "name": "ipython",
    "version": 3
   },
   "file_extension": ".py",
   "mimetype": "text/x-python",
   "name": "python",
   "nbconvert_exporter": "python",
   "pygments_lexer": "ipython3",
   "version": "3.11.6"
  }
 },
 "nbformat": 4,
 "nbformat_minor": 5
}
