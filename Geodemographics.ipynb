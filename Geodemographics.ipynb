{
 "cells": [
  {
   "cell_type": "markdown",
   "id": "e094ce13-061e-40a6-ba66-119bde4cfab1",
   "metadata": {},
   "source": [
    "# Method 2: Geodemographics\n",
    "\n",
    "Now that we have synthetic granular data representing BSA results for the entire adult population of York, we can set about using this data to create clusters to represent voting habits in York."
   ]
  },
  {
   "cell_type": "markdown",
   "id": "e9581528-1d40-41ad-9cd8-f124d6e295b1",
   "metadata": {},
   "source": [
    "### Step 1: Importing packages"
   ]
  },
  {
   "cell_type": "code",
   "execution_count": null,
   "id": "937c5f10-2dc5-460c-a054-2987aa0df171",
   "metadata": {},
   "outputs": [],
   "source": [
    "import pandas as pd\n",
    "import geopandas as gpd\n",
    "import os\n",
    "import seaborn as sns\n",
    "import matplotlib.pyplot as plt\n",
    "from sklearn.cluster import KMeans\n",
    "from scipy.spatial.distance import cdist, pdist\n",
    "import numpy as np\n",
    "import plotly.express as px\n",
    "from sklearn.decomposition import PCA\n",
    "from sklearn.preprocessing import StandardScaler\n",
    "import copy"
   ]
  },
  {
   "cell_type": "markdown",
   "id": "f4178616-402b-4b10-bfe9-c0a2086bea2f",
   "metadata": {},
   "source": [
    "### Step 2: Importing our CSV file and our shapefile, and merging them\n",
    "In this step, we take our aggregate dataframe and our shapefile containing electoral wards in York, and we combine them into one geodataframe, which we then export as a shapefile. Doing this means that the following code only needs to be run once, therefore it is now hashtagged out as the merged file is included with the data package to reproduce this paper."
   ]
  },
  {
   "cell_type": "code",
   "execution_count": null,
   "id": "ef4ecf32-1099-4be4-935b-aad2e820b7d5",
   "metadata": {},
   "outputs": [],
   "source": [
    "york_shapefile = gpd.read_file('data/York_boundaries/york_electoral_boundaries.shp')\n",
    "york_BSA = pd.read_csv('data/BSA_agg.csv', low_memory=False)"
   ]
  },
  {
   "cell_type": "code",
   "execution_count": null,
   "id": "3109649b-d76b-4c1e-a5d8-3f64a243644f",
   "metadata": {},
   "outputs": [],
   "source": [
    "BSA_geom = york_BSA.merge(york_shapefile, on='geo_code', how='left')\n",
    "BSA_geom = gpd.GeoDataFrame(BSA_geom, geometry=\"geometry\")"
   ]
  },
  {
   "cell_type": "code",
   "execution_count": null,
   "id": "c3110c3b-326f-4312-9b09-21d7af065f19",
   "metadata": {},
   "outputs": [],
   "source": [
    "#BSA_geom.to_file('data/geodemographics shapefile/BSA_agg_geom.shp')"
   ]
  },
  {
   "cell_type": "markdown",
   "id": "8671c340-f64d-4869-9338-179838b788cc",
   "metadata": {},
   "source": [
    "Therefore, when you want to run this code, you need only run the line below to import the merged file, saving on processing time."
   ]
  },
  {
   "cell_type": "code",
   "execution_count": null,
   "id": "2716b561-d33b-4f3c-97f0-7604da617bca",
   "metadata": {},
   "outputs": [],
   "source": [
    "#BSA_geom = gpd.read_file('data/geodemographics shapefile/BSA_agg_geom.shp')"
   ]
  },
  {
   "cell_type": "code",
   "execution_count": null,
   "id": "225ba07b-2eb7-46da-9658-8e6685324494",
   "metadata": {},
   "outputs": [],
   "source": [
    "BSA_geom.columns"
   ]
  },
  {
   "cell_type": "code",
   "execution_count": null,
   "id": "0cc8a977-e3bb-44f5-8328-d2d7ab9ebf64",
   "metadata": {},
   "outputs": [],
   "source": [
    "BSA_geom.head()"
   ]
  },
  {
   "cell_type": "markdown",
   "id": "6b87f33a-5ef3-4ba9-b32a-4004e51f6c00",
   "metadata": {},
   "source": [
    "### Step 3: Selecting our variables\n",
    "\n",
    "Creating histograms to justify variable selection"
   ]
  },
  {
   "cell_type": "code",
   "execution_count": null,
   "id": "1e9933a1-184d-4e4f-b2df-f200cb13941d",
   "metadata": {},
   "outputs": [],
   "source": [
    "attributes_to_plot = ['support_conservative',\n",
    "                      'support_labour',\n",
    "                      'support_libdem',\n",
    "                      'support_green',\n",
    "                      'support_ukip',\n",
    "                      'support_brexit',\n",
    "                      'support_other', \n",
    "                      'support_none'\n",
    "                     ]\n",
    "\n",
    "plt.figure(figsize=(12, 12))\n",
    "\n",
    "for i, attribute in enumerate(attributes_to_plot,1):\n",
    "    plt.subplot(4, 2, i)\n",
    "    sns.histplot(BSA_geom[attribute], kde=True)\n",
    "    plt.title(attribute)\n",
    "\n",
    "plt.tight_layout()\n",
    "plt.show()"
   ]
  },
  {
   "cell_type": "code",
   "execution_count": null,
   "id": "9c6ba611-d717-4472-b4d3-d291f03c36bf",
   "metadata": {},
   "outputs": [],
   "source": [
    "attributes_to_plot = ['voted_conservative',\n",
    "                      'voted_labour',\n",
    "                      'voted_libdem',\n",
    "                      'voted_green',\n",
    "                      'voted_UKIP',\n",
    "                      'voted_other',\n",
    "                     ]\n",
    "\n",
    "plt.figure(figsize=(12, 12))\n",
    "\n",
    "for i, attribute in enumerate(attributes_to_plot,1):\n",
    "    plt.subplot(4, 2, i)\n",
    "    sns.histplot(BSA_geom[attribute], kde=True)\n",
    "    plt.title(attribute)\n",
    "\n",
    "plt.tight_layout()\n",
    "plt.show()"
   ]
  },
  {
   "cell_type": "markdown",
   "id": "79038fb2-302c-4794-952d-124a40c60066",
   "metadata": {},
   "source": [
    "### Step 4: Subsetting the data\n",
    "\n",
    "In this step we create a new dataframe of only the variables we need, and transform the aggregate counts into percentages of the total population. As we know from our <a href=\"cleaning.ipynb#Step-4:-Validation-and-checking-the-data-to-ensure-we've-aggregated-it-correctly\">cleaning</a> that within each category of data (age, sex, race, who they voted for), the entire population of York is represented across the columns representing that category. Therefore we calculate all percentages using the 'total_pop' column, and subset the results into a new dataframe just containing the relevant percentages.\n",
    "\n",
    "After this, we rename the columns to make referring to particular columns easier later on."
   ]
  },
  {
   "cell_type": "code",
   "execution_count": null,
   "id": "04c11167-6456-41e5-9a51-c5c1b490ba76",
   "metadata": {},
   "outputs": [],
   "source": [
    "def percentages(dataframe, value_columns): # function to calculate percentages\n",
    "\n",
    "    result_df = pd.DataFrame() # initialises a new results dataframe\n",
    "\n",
    "    for i in value_columns: # for loop to calculate percentages\n",
    "        percentage_col_name = f\"{i}_percentage\"\n",
    "        result_df[percentage_col_name] = (dataframe[i] / dataframe['total_pop']) * 100\n",
    "        \n",
    "    return result_df # returns the new dataframe\n",
    "\n",
    "# List of the columns we're going to standardise\n",
    "value_cols = ['age1864', 'age65',\n",
    "              'female', 'male',\n",
    "              'support_yes', 'support_no',\n",
    "              'political_interest_yes', 'political_interest_no',\n",
    "              'welfare_pro', 'welfare_anti',\n",
    "              'wealth_redist_pro', 'wealth_redist_anti',\n",
    "              'lean_left','lean_right', 'lean_centrist',\n",
    "              'rel_christian', 'rel_nonChristian', 'rel_none', 'rel_other',\n",
    "              'nat_british', 'nat_english', 'nat_european', 'nat_irish',\n",
    "              'nat_scottish', 'nat_welsh', 'nat_other_none',\n",
    "              'race_white', 'race_asian', 'race_mixed', 'race_other',\n",
    "              'disab_affect', 'disab_no_affect', 'disab_none',\n",
    "              'voted_conservative', 'voted_labour','voted_libdem',\n",
    "              'voted_green', 'voted_UKIP', 'voted_other'\n",
    "             ]\n",
    "\n",
    "\n",
    "percentage_results = percentages(BSA_geom, value_cols)"
   ]
  },
  {
   "cell_type": "code",
   "execution_count": null,
   "id": "81694ce2-6ded-411b-8123-64025490de2c",
   "metadata": {},
   "outputs": [],
   "source": [
    "percentage_results.shape"
   ]
  },
  {
   "cell_type": "code",
   "execution_count": null,
   "id": "ee7a9055-1005-4ba4-97da-c13c67b85511",
   "metadata": {},
   "outputs": [],
   "source": [
    "# join it to the merged dataframe!\n",
    "BSA_geom_perc = pd.concat([BSA_geom, percentage_results], axis=1, ignore_index=False)\n",
    "BSA_geom_perc.head()"
   ]
  },
  {
   "cell_type": "code",
   "execution_count": null,
   "id": "381006a1-5932-4755-b52b-597ea56d4281",
   "metadata": {},
   "outputs": [],
   "source": [
    "BSA_geom_perc.columns"
   ]
  },
  {
   "cell_type": "code",
   "execution_count": null,
   "id": "81b18b70-fc2e-43f4-950d-0649b4f8ed41",
   "metadata": {},
   "outputs": [],
   "source": [
    "keep = ['geo_code',\n",
    "        'geometry',\n",
    "        'age1864_percentage',\n",
    "        'age65_percentage',\n",
    "        'female_percentage',\n",
    "        'male_percentage',\n",
    "        'political_interest_yes_percentage',\n",
    "        'political_interest_no_percentage',\n",
    "        'welfare_pro_percentage',\n",
    "        'welfare_anti_percentage',\n",
    "        'wealth_redist_pro_percentage',\n",
    "        'wealth_redist_anti_percentage',\n",
    "        'lean_left_percentage',\n",
    "        'lean_right_percentage', \n",
    "        'lean_centrist_percentage',\n",
    "        'rel_christian_percentage',\n",
    "        'rel_nonChristian_percentage',\n",
    "        'rel_none_percentage',\n",
    "        'rel_other_percentage', \n",
    "        'nat_british_percentage', \n",
    "        'nat_english_percentage', \n",
    "        'nat_european_percentage', \n",
    "        'nat_irish_percentage',\n",
    "        'nat_scottish_percentage', \n",
    "        'nat_welsh_percentage', \n",
    "        'nat_other_none_percentage',\n",
    "        'race_white_percentage',\n",
    "        'race_asian_percentage', \n",
    "        'race_mixed_percentage',\n",
    "        'race_other_percentage', \n",
    "        'disab_affect_percentage',\n",
    "        'disab_no_affect_percentage', \n",
    "        'disab_none_percentage',\n",
    "\n",
    "       ]\n",
    "\n",
    "bsa_perc_sub = BSA_geom_perc[keep]"
   ]
  },
  {
   "cell_type": "code",
   "execution_count": null,
   "id": "bb1e706a-cc8f-43d2-a701-2ef96113f60b",
   "metadata": {},
   "outputs": [],
   "source": [
    "bsa_perc_sub.head()"
   ]
  },
  {
   "cell_type": "markdown",
   "id": "b8f7d76a-21f5-44a9-864d-a5da09a50a50",
   "metadata": {},
   "source": [
    "Renaming our subset of percentage columns for easy analysis, a lot of these names are quite long so we'll give them shorter names to make them easier to work with."
   ]
  },
  {
   "cell_type": "code",
   "execution_count": null,
   "id": "ab4e7288-d21c-4554-aab9-eb605247204f",
   "metadata": {},
   "outputs": [],
   "source": [
    "rename_columns = { \n",
    "        'age1864_percentage': 'adults18_64',\n",
    "        'age65_percentage': 'adults65pl',\n",
    "        'female_percentage': 'female',\n",
    "        'male_percentage': 'male',\n",
    "        'political_interest_yes_percentage': 'polInter_yes',\n",
    "        'political_interest_no_percentage': 'polInter_no',\n",
    "        'welfare_pro_percentage': 'welf_pro',\n",
    "        'welfare_anti_percentage': 'welf_anti',\n",
    "        'wealth_redist_pro_percentage': 'redist_pro',\n",
    "        'wealth_redist_anti_percentage': 'redist_anti',\n",
    "        'lean_left_percentage': 'lean_left',\n",
    "        'lean_right_percentage': 'lean_right',\n",
    "        'lean_centrist_percentage': 'lean_centr',\n",
    "        'rel_christian_percentage': 'rel_christ',\n",
    "        'rel_nonChristian_percentage': 'rel_nonchrist',\n",
    "        'rel_none_percentage': 'rel_non',\n",
    "        'rel_other_percentage': 'rel_other',\n",
    "        'nat_british_percentage': 'nat_british',\n",
    "        'nat_english_percentage': 'nat_english',\n",
    "        'nat_european_percentage': 'nat_euro',\n",
    "        'nat_irish_percentage': 'nat_irish',\n",
    "        'nat_scottish_percentage': 'nat_scottish',\n",
    "        'nat_welsh_percentage': 'nat_welsh',\n",
    "        'nat_other_none_percentage': 'nat_other',\n",
    "        'race_white_percentage': 'race_white',\n",
    "        'race_asian_percentage': 'race_asian',\n",
    "        'race_mixed_percentage': 'race_mixed',\n",
    "        'race_other_percentage': 'race_other',\n",
    "        'disab_affect_percentage': 'disab_aff',\n",
    "        'disab_no_affect_percentage': 'disab_noAff',\n",
    "        'disab_none_percentage': 'disab_None',\n",
    "\n",
    "                 }\n",
    "\n",
    "bsa_perc_sub = bsa_perc_sub.rename(columns=rename_columns)"
   ]
  },
  {
   "cell_type": "code",
   "execution_count": null,
   "id": "d79aad5d-d5b6-4ab7-bf12-2d53ce94390b",
   "metadata": {},
   "outputs": [],
   "source": [
    "bsa_perc_sub.head()"
   ]
  },
  {
   "cell_type": "code",
   "execution_count": null,
   "id": "0ddc52f4-4a77-4c2f-ada0-134bc8862745",
   "metadata": {},
   "outputs": [],
   "source": [
    "bsa_perc_sub.columns"
   ]
  },
  {
   "cell_type": "markdown",
   "id": "39d24e8f-4b44-4a5b-8624-2b6a7d7473b3",
   "metadata": {},
   "source": [
    "### Step 5: Z-scores and measuring for association\n",
    "To finish standardising variables, we next calculate z-scores for each column, saving these into a new dataframe ('bsa_z'). Then we use these to measure for association."
   ]
  },
  {
   "cell_type": "code",
   "execution_count": null,
   "id": "87facd80-950f-45f2-8642-b4cb03dbfbd1",
   "metadata": {},
   "outputs": [],
   "source": [
    "numeric_columns = bsa_perc_sub.select_dtypes(include='float64') # subsetting for just the numeric columns\n",
    "bsa_z = (numeric_columns - numeric_columns.mean()) / numeric_columns.std(ddof=0)\n",
    "bsa_z.head()"
   ]
  },
  {
   "cell_type": "code",
   "execution_count": null,
   "id": "2a439c86-80a7-430a-a945-3abd23fce8f0",
   "metadata": {},
   "outputs": [],
   "source": [
    "corr_colourmap = bsa_z.corr()\n",
    "corr_colourmap.style.background_gradient(cmap='coolwarm')"
   ]
  },
  {
   "cell_type": "code",
   "execution_count": null,
   "id": "ad9ddd6b-4519-4da0-a51a-9cefb9f6d0ba",
   "metadata": {},
   "outputs": [],
   "source": [
    "threshold = 0.8\n",
    "\n",
    "highly_correlated = (corr_colourmap.abs() > threshold) & (corr_colourmap.abs() < 1.0)\n",
    "\n",
    "plt.figure(figsize=(10, 8))\n",
    "sns.heatmap(highly_correlated, cmap='coolwarm', cbar=False, annot=True)\n",
    "\n",
    "plt.title('Highly Correlated Variables')\n",
    "plt.savefig(\"data/images/matrix1.png\") # saving the output as it's too large to screenshot\n",
    "plt.show()\n"
   ]
  },
  {
   "cell_type": "markdown",
   "id": "ad478537-87e3-437e-a5ab-5a9d2b603c32",
   "metadata": {},
   "source": [
    "As we can see from this graph, there are a lot of highly correlated variables. As discussed within the methods of the report, this can be expected with synthetic data, therefore we will just select the variables we want to include in our clustering regardless of correlations."
   ]
  },
  {
   "cell_type": "code",
   "execution_count": null,
   "id": "32d9e193-607e-4153-8a1f-a611b1e11158",
   "metadata": {},
   "outputs": [],
   "source": [
    "bsa_z.drop(['disab_None', \n",
    "            'disab_noAff', \n",
    "            #'race_other',\n",
    "            'nat_euro', \n",
    "            'nat_irish', \n",
    "            'nat_scottish',\n",
    "            'nat_welsh',\n",
    "            'nat_other',\n",
    "            'polInter_no',\n",
    "            'welf_anti',\n",
    "            'redist_anti',\n",
    "            #'lean_right',\n",
    "            'disab_noAff',\n",
    "            'rel_other',\n",
    "\n",
    "            'adults18_64',\n",
    "            'adults65pl',\n",
    "            'female',\n",
    "            'male',\n",
    "\n",
    "            \n",
    "           ], axis=1, inplace=True)\n"
   ]
  },
  {
   "cell_type": "code",
   "execution_count": null,
   "id": "f6a5cac2-5e1e-4832-80d8-4c76aac654e4",
   "metadata": {},
   "outputs": [],
   "source": [
    "corr_colourmap2 = bsa_z.corr()\n",
    "corr_colourmap2.style.background_gradient(cmap='coolwarm')"
   ]
  },
  {
   "cell_type": "code",
   "execution_count": null,
   "id": "2f487187-d652-422c-9e92-874b1e60dab4",
   "metadata": {},
   "outputs": [],
   "source": [
    "highly_correlated2 = (corr_colourmap2.abs() > threshold) & (corr_colourmap2.abs() < 1.0)\n",
    "\n",
    "plt.figure(figsize=(10, 8))\n",
    "sns.heatmap(highly_correlated2, cmap='coolwarm', cbar=False, annot=True)\n",
    "\n",
    "plt.title('Highly Correlated Variables')\n",
    "plt.savefig(\"data/images/matrix2.png\") # saving the output as it's too large to screenshot\n",
    "plt.show()"
   ]
  },
  {
   "cell_type": "markdown",
   "id": "341eb6fb-cf36-43b3-95f0-921a93c7cd87",
   "metadata": {},
   "source": [
    "## Step 6: k-Means clustering\n",
    "The first step to calculating our clusters is to to calculate first how many clusters would fit our data. We can do this with the elbow method, as is shown below:"
   ]
  },
  {
   "cell_type": "code",
   "execution_count": null,
   "id": "a3bf3202-ac2a-472e-96db-6e306c8fe613",
   "metadata": {},
   "outputs": [],
   "source": [
    "Sum_of_squared_distances = [] \n",
    "\n",
    "K_range = range(1,10) # creating a range of potential clusters\n",
    "\n",
    "for k in K_range:\n",
    " km = KMeans(n_clusters=k, random_state=0)\n",
    " km = km.fit(bsa_z)\n",
    " Sum_of_squared_distances.append(km.inertia_)\n",
    "    \n",
    "plt.plot(K_range, Sum_of_squared_distances, 'bx-')\n",
    "plt.xlabel('k')\n",
    "plt.ylabel('Sum_of_squared_distances')\n",
    "plt.title('Elbow Method For Optimal k')\n",
    "plt.show()"
   ]
  },
  {
   "cell_type": "markdown",
   "id": "839f9f61-e328-4c96-8630-0981649982d8",
   "metadata": {},
   "source": [
    "The elbow method shows that the number of clusters that would best fit our data is 2 clusters, maybe up to 5, as this is where the 'elbow' of the line graph is. We also caluclate the between-custer sum of squares to compare results."
   ]
  },
  {
   "cell_type": "code",
   "execution_count": null,
   "id": "f94efb41-159d-4e22-a96a-229d6952257c",
   "metadata": {},
   "outputs": [],
   "source": [
    "def elbow(dataframe, n): # defining a function for the elbow method\n",
    "    kMeansVar = [KMeans(n_clusters=k, random_state=0).fit(dataframe.values) for k in range(1, n)]\n",
    "    centroids = [X.cluster_centers_ for X in kMeansVar]\n",
    "    k_euclid = [cdist(dataframe.values, cent) for cent in centroids]\n",
    "    dist = [np.min(ke, axis=1) for ke in k_euclid]\n",
    "    wcss = [sum(d**2) for d in dist]\n",
    "    tss = sum(pdist(dataframe.values)**2)/dataframe.values.shape[0]\n",
    "    bss = tss - wcss\n",
    "    plt.plot(bss)\n",
    "    plt.xlabel('k')\n",
    "    plt.ylabel('Between-cluster sum of squares')\n",
    "    plt.title('Elbow Method For Optimal k')\n",
    "    plt.show()\n",
    " \n",
    "elbow(bsa_z,10)"
   ]
  },
  {
   "cell_type": "markdown",
   "id": "b6830904-9ca3-4525-b8ed-a2d77f3f1856",
   "metadata": {},
   "source": [
    "Comparing the sum of squared distances to the results of the between-cluster sum of squares, the between-cluster sum appears to suggest that around 4 clusters is the peak number. In our first attempt we will go forward with 3 clusters as a first test, and adjust for more tests."
   ]
  },
  {
   "cell_type": "code",
   "execution_count": null,
   "id": "52631ed0-ab13-4db3-94aa-adac8e2b7407",
   "metadata": {},
   "outputs": [],
   "source": [
    "# making a deep copy of the bsa_z dataframe to use to test the use of three clusters\n",
    "bsa_z3 = bsa_z.copy() # making a deep copy"
   ]
  },
  {
   "cell_type": "code",
   "execution_count": null,
   "id": "2b5c1cb2-cede-43e3-8696-4d1e7b225f20",
   "metadata": {},
   "outputs": [],
   "source": [
    "kmeans3 = KMeans(n_clusters=3, random_state=0) # defining our cluster number as 3 and defining a seed\n",
    "kmeans3.fit(bsa_z3)\n",
    "labels = kmeans3.predict(bsa_z3)\n",
    "cluster_centres3 = kmeans3.cluster_centers_\n",
    "\n",
    "bsa_z3['Cluster'] = kmeans3.labels_"
   ]
  },
  {
   "cell_type": "code",
   "execution_count": null,
   "id": "e24580fa-0c51-45ac-9e0c-519748e97dcc",
   "metadata": {},
   "outputs": [],
   "source": [
    "bsa_z3.to_csv(\"data/bsa_z3k.csv\", index=False) # saving this dataset with 3 clusters"
   ]
  },
  {
   "cell_type": "markdown",
   "id": "84ec521b-c25b-4998-b33b-f7953c2d57cc",
   "metadata": {},
   "source": [
    "Next we need to evaluate our cluster groups using PCA"
   ]
  },
  {
   "cell_type": "code",
   "execution_count": null,
   "id": "23ec7967-0330-49a7-9d79-a0f165ff5ade",
   "metadata": {},
   "outputs": [],
   "source": [
    "clusters3 = kmeans3.fit_predict(bsa_z3)\n",
    "\n",
    "bsa_z3['Cluster'] = clusters3\n",
    "\n",
    "scaler3 = StandardScaler()\n",
    "stand_data_scaled3 = scaler3.fit_transform(bsa_z3)\n",
    "\n",
    "# PCA analysis\n",
    "pca3 = PCA(n_components=2).fit(stand_data_scaled3)\n",
    "pca_result3 = pca3.transform(stand_data_scaled3)\n",
    "\n",
    "# calculating percentage variance\n",
    "variance_ratio3 = pca3.explained_variance_ratio_"
   ]
  },
  {
   "cell_type": "code",
   "execution_count": null,
   "id": "fdab6578-73e0-4d9e-b80e-dd1f240cdfd6",
   "metadata": {},
   "outputs": [],
   "source": [
    "# printing a scatter plot for results\n",
    "plt.figure(figsize=(12, 8))\n",
    "fig = px.scatter(x=pca_result3[:, 0], y=pca_result3[:, 1], color=clusters3,\n",
    "                 labels={'color': 'Cluster'},\n",
    "                 title='York BSA Synthetic Dataset: Cluster Plot against first two Principal Components',\n",
    "                 opacity=0.7,\n",
    "                 width=800, \n",
    "                 height=800)\n",
    "\n",
    "plt.tight_layout()\n",
    "fig.show()\n",
    "\n",
    "print(f\"These two components explain {(variance_ratio3.sum()*100):.2f}% of the point variability.\")\n"
   ]
  },
  {
   "cell_type": "code",
   "execution_count": null,
   "id": "616fd49e-f032-48c1-b969-b89f107757bc",
   "metadata": {},
   "outputs": [],
   "source": [
    "plt.figure(figsize=(10, 6))\n",
    "sns.scatterplot(x=pca_result3[:, 0], y=pca_result3[:, 1], hue=clusters3, palette='viridis', s=50, alpha=0.7)\n",
    "plt.title('Cluster Plot against 1st 2 Principal Components')\n",
    "plt.xlabel(f'Principal Component 1 variation: {variance_ratio3[0]*100:.2f}%')\n",
    "plt.ylabel(f'Principal Component 2 variation: {variance_ratio3[1]*100:.2f}%')\n",
    "plt.legend(title='Clusters')\n",
    "plt.show()"
   ]
  },
  {
   "cell_type": "markdown",
   "id": "b0b567d4-d65e-46bc-95d0-94af8304381f",
   "metadata": {},
   "source": [
    "Interpreting our cluster centres - creating a dataframe with the coordinates of cluster centres"
   ]
  },
  {
   "cell_type": "code",
   "execution_count": null,
   "id": "6b1bce03-512b-4dff-9dc0-d20510a1262d",
   "metadata": {},
   "outputs": [],
   "source": [
    "cluster_centers_k3 = pd.DataFrame(kmeans3.cluster_centers_, columns=bsa_z3.columns, )\n",
    "cluster_centers_k3.to_csv(\"data/cluster_centers_k3.csv\", index=False)\n",
    "cluster_centers_k3.head()"
   ]
  },
  {
   "cell_type": "markdown",
   "id": "d5376be7-1df3-4033-a2e4-8668ab2237d7",
   "metadata": {},
   "source": [
    "### Step 7: Looking at the characteristics of our clusters\n",
    "\n",
    "This is for 2 clusters, however, we will test out 3 and 4 clusters too to see if we can get a better fit. "
   ]
  },
  {
   "cell_type": "code",
   "execution_count": null,
   "id": "5cee022e-1517-4edf-a68b-740a778eb7f8",
   "metadata": {},
   "outputs": [],
   "source": [
    "first_row_centers_k3 = cluster_centers_k3.iloc[0, :]\n",
    "\n",
    "# saving the length of features\n",
    "num_features_k3 = len(first_row_centers_k3)\n",
    "\n",
    "# getting the polar coordinates\n",
    "theta_k3 = np.linspace(0, 2 * np.pi, num_features_k3, endpoint=True)\n",
    "\n",
    "fig, ax = plt.subplots(subplot_kw={'projection': 'polar'})\n",
    " # plots the centres\n",
    "ax.plot(theta_k3, first_row_centers_k3, linewidth=1, color='blue', marker='o', label='Centers')\n",
    "\n",
    " # adding the red line into the plot where the value is 0.0\n",
    "ax.plot(theta_k3, np.zeros_like(first_row_centers_k3), color='red', linestyle='--', label='Avarage')\n",
    "\n",
    "ax.set_xticks(theta_k3)\n",
    "ax.set_xticklabels(cluster_centers_k3.columns, rotation=45, ha='right')\n",
    "plt.title(\"Characteristics of Cluster 1\")\n",
    "plt.show()"
   ]
  },
  {
   "cell_type": "code",
   "execution_count": null,
   "id": "031bfbc1-180e-4c4a-8f57-c806f9cf1e25",
   "metadata": {},
   "outputs": [],
   "source": [
    "second_row_centers_k3 = cluster_centers_k3.iloc[1, :]\n",
    "\n",
    "# saving the length of features\n",
    "num_features_k3 = len(second_row_centers_k3)\n",
    "\n",
    "# getting the polar coordinates\n",
    "theta_k3 = np.linspace(0, 2 * np.pi, num_features_k3, endpoint=True)\n",
    "\n",
    "fig, ax = plt.subplots(subplot_kw={'projection': 'polar'})\n",
    " # plots the centres\n",
    "ax.plot(theta_k3, second_row_centers_k3, linewidth=1, color='blue', marker='o', label='Centers')\n",
    "\n",
    " # adding the red line into the plot where the value is 0.0\n",
    "ax.plot(theta_k3, np.zeros_like(second_row_centers_k3), color='red', linestyle='--', label='Avarage')\n",
    "\n",
    "ax.set_xticks(theta_k3)\n",
    "ax.set_xticklabels(cluster_centers_k3.columns, rotation=45, ha='right')\n",
    "plt.title(\"Characteristics of Cluster 2\")\n",
    "plt.show()"
   ]
  },
  {
   "cell_type": "code",
   "execution_count": null,
   "id": "d5b02346-77eb-4b5c-8452-57c0b35d9daf",
   "metadata": {},
   "outputs": [],
   "source": [
    "third_row_centers_k3 = cluster_centers_k3.iloc[2, :]\n",
    "\n",
    "# saving the length of features\n",
    "num_features_k3 = len(third_row_centers_k3)\n",
    "\n",
    "# getting the polar coordinates\n",
    "theta_k3 = np.linspace(0, 2 * np.pi, num_features_k3, endpoint=True)\n",
    "\n",
    "fig, ax = plt.subplots(subplot_kw={'projection': 'polar'})\n",
    " # plots the centres\n",
    "ax.plot(theta_k3, third_row_centers_k3, linewidth=1, color='blue', marker='o', label='Centers')\n",
    "\n",
    " # adding the red line into the plot where the value is 0.0\n",
    "ax.plot(theta_k3, np.zeros_like(third_row_centers_k3), color='red', linestyle='--', label='Avarage')\n",
    "\n",
    "ax.set_xticks(theta_k3)\n",
    "ax.set_xticklabels(cluster_centers_k3.columns, rotation=45, ha='right')\n",
    "plt.title(\"Characteristics of Cluster 3\")\n",
    "plt.show()"
   ]
  },
  {
   "cell_type": "markdown",
   "id": "64ea8b18-3c25-44c8-aeef-ab8b690ad9b6",
   "metadata": {},
   "source": [
    "## Step 7: Testing different numbers of clusters.\n",
    "\n",
    "### Test 1: Two Clusters"
   ]
  },
  {
   "cell_type": "code",
   "execution_count": null,
   "id": "f272f5a5-2256-4ba5-975c-81ad9992416b",
   "metadata": {},
   "outputs": [],
   "source": [
    "bsa_z2 = bsa_z.copy() # making a deep copy"
   ]
  },
  {
   "cell_type": "code",
   "execution_count": null,
   "id": "e7208781-2620-44e6-9902-b6ceb2bfa337",
   "metadata": {},
   "outputs": [],
   "source": [
    "kmeans2 = KMeans(n_clusters=2, random_state=0) # defining our cluster number as 2 and defining a seed\n",
    "kmeans2.fit(bsa_z2)\n",
    "labels = kmeans2.predict(bsa_z2)\n",
    "cluster_centres2 = kmeans2.cluster_centers_\n",
    "\n",
    "bsa_z2['Cluster'] = kmeans2.labels_"
   ]
  },
  {
   "cell_type": "code",
   "execution_count": null,
   "id": "724a0818-df9a-4df7-8b7d-945ad9ef5f61",
   "metadata": {},
   "outputs": [],
   "source": [
    "bsa_z2.to_csv(\"data/bsa_z2k.csv\", index=False) # saving this dataset with 2 clusters"
   ]
  },
  {
   "cell_type": "code",
   "execution_count": null,
   "id": "000f6975-48a3-4a2f-a8b7-edea30175165",
   "metadata": {},
   "outputs": [],
   "source": [
    "clusters2 = kmeans2.fit_predict(bsa_z2)\n",
    "\n",
    "bsa_z2['Cluster'] = clusters2\n",
    "\n",
    "# Standardize the data for PCA\n",
    "scaler2 = StandardScaler()\n",
    "stand_data_scaled2 = scaler2.fit_transform(bsa_z2)\n",
    "\n",
    "pca2 = PCA(n_components=2).fit(stand_data_scaled2)\n",
    "pca_result2 = pca2.transform(stand_data_scaled2)\n",
    "\n",
    "# calculating percentage variance\n",
    "variance_ratio2 = pca2.explained_variance_ratio_"
   ]
  },
  {
   "cell_type": "code",
   "execution_count": null,
   "id": "e0615cf3-274b-4abb-ab44-ae91c7e7bc6a",
   "metadata": {},
   "outputs": [],
   "source": [
    "# printing a scatter plot for results\n",
    "plt.figure(figsize=(12, 8))\n",
    "fig = px.scatter(x=pca_result2[:, 0], y=pca_result2[:, 1], color=clusters2,\n",
    "                 labels={'color': 'Cluster'},\n",
    "                 title='York BSA Synthetic Dataset: Cluster Plot against first two Principal Components',\n",
    "                 opacity=0.7,\n",
    "                 width=800, \n",
    "                 height=800)\n",
    "\n",
    "plt.tight_layout()\n",
    "fig.show()\n",
    "\n",
    "print(f\"These two components explain {(variance_ratio2.sum()*100):.2f}% of the point variability.\")"
   ]
  },
  {
   "cell_type": "code",
   "execution_count": null,
   "id": "6468b2f9-c807-42a4-9067-7cf5c608bcd8",
   "metadata": {},
   "outputs": [],
   "source": [
    "plt.figure(figsize=(10, 6))\n",
    "sns.scatterplot(x=pca_result2[:, 0], y=pca_result2[:, 1], hue=clusters2, palette='viridis', s=50, alpha=0.7)\n",
    "plt.title('Cluster Plot against 1st 2 Principal Components')\n",
    "plt.xlabel(f'Principal Component 1 variation: {variance_ratio2[0]*100:.2f}%')\n",
    "plt.ylabel(f'Principal Component 2 variation: {variance_ratio2[1]*100:.2f}%')\n",
    "plt.legend(title='Clusters')\n",
    "plt.show()"
   ]
  },
  {
   "cell_type": "code",
   "execution_count": null,
   "id": "188dd62d-f687-4d63-b280-0f847302cf0b",
   "metadata": {},
   "outputs": [],
   "source": [
    "cluster_centers_k2 = pd.DataFrame(kmeans2.cluster_centers_, columns=bsa_z2.columns, )\n",
    "cluster_centers_k2.to_csv(\"data/cluster_centers_k2.csv\", index=False)\n",
    "cluster_centers_k2.head()"
   ]
  },
  {
   "cell_type": "code",
   "execution_count": null,
   "id": "27d3b273-ea1d-4783-8349-1d2ed14670a7",
   "metadata": {},
   "outputs": [],
   "source": [
    "first_row_centers_k2 = cluster_centers_k2.iloc[0, :]\n",
    "\n",
    "# saving the length of features\n",
    "num_features_k2 = len(first_row_centers_k2)\n",
    "\n",
    "# getting the polar coordinates\n",
    "theta_k2 = np.linspace(0, 2 * np.pi, num_features_k2, endpoint=True)\n",
    "\n",
    "fig, ax = plt.subplots(subplot_kw={'projection': 'polar'})\n",
    " # plots the centres\n",
    "ax.plot(theta_k2, first_row_centers_k2, linewidth=1, color='blue', marker='o', label='Centers')\n",
    "\n",
    " # adding the red line into the plot where the value is 0.0\n",
    "ax.plot(theta_k2, np.zeros_like(first_row_centers_k2), color='red', linestyle='--', label='Avarage')\n",
    "\n",
    "ax.set_xticks(theta_k2)\n",
    "ax.set_xticklabels(cluster_centers_k2.columns, rotation=45, ha='right')\n",
    "plt.title(\"Characteristics of Cluster 1\")\n",
    "plt.show()"
   ]
  },
  {
   "cell_type": "code",
   "execution_count": null,
   "id": "9f9c3d65-e301-4af6-ae1a-e3c24ebefa97",
   "metadata": {},
   "outputs": [],
   "source": [
    "second_row_centers_k2 = cluster_centers_k2.iloc[1, :]\n",
    "\n",
    "# saving the length of features\n",
    "num_features_k2 = len(second_row_centers_k2)\n",
    "\n",
    "# getting the polar coordinates\n",
    "theta_k2 = np.linspace(0, 2 * np.pi, num_features_k2, endpoint=True)\n",
    "\n",
    "fig, ax = plt.subplots(subplot_kw={'projection': 'polar'})\n",
    " # plots the centres\n",
    "ax.plot(theta_k2, second_row_centers_k2, linewidth=1, color='blue', marker='o', label='Centers')\n",
    "\n",
    " # adding the red line into the plot where the value is 0.0\n",
    "ax.plot(theta_k2, np.zeros_like(second_row_centers_k2), color='red', linestyle='--', label='Avarage')\n",
    "\n",
    "ax.set_xticks(theta_k2)\n",
    "ax.set_xticklabels(cluster_centers_k2.columns, rotation=45, ha='right')\n",
    "plt.title(\"Characteristics of Cluster 2\")\n",
    "plt.show()"
   ]
  },
  {
   "cell_type": "markdown",
   "id": "a71e0c1b-6bb6-4f23-943c-327e0e15b736",
   "metadata": {},
   "source": [
    "### Test 2: Four Clusters"
   ]
  },
  {
   "cell_type": "code",
   "execution_count": null,
   "id": "22cda673-09a4-4f04-8dba-e9e38a328fb2",
   "metadata": {},
   "outputs": [],
   "source": [
    "bsa_z4 = bsa_z.copy() # making a deep copy"
   ]
  },
  {
   "cell_type": "code",
   "execution_count": null,
   "id": "18faee20-6dad-4723-955b-43a9cff6baba",
   "metadata": {},
   "outputs": [],
   "source": [
    "kmeans4 = KMeans(n_clusters=4, random_state=0) # defining our cluster number as 4 and defining a seed\n",
    "kmeans4.fit(bsa_z4)\n",
    "labels = kmeans4.predict(bsa_z4)\n",
    "cluster_centres4 = kmeans4.cluster_centers_\n",
    "\n",
    "bsa_z4['Cluster'] = kmeans4.labels_"
   ]
  },
  {
   "cell_type": "code",
   "execution_count": null,
   "id": "73265a31-04cb-48fb-92d8-1a674995a0e2",
   "metadata": {},
   "outputs": [],
   "source": [
    "bsa_z4.to_csv(\"data/bsa_z4k.csv\", index=False) # saving this dataset with 4 clusters"
   ]
  },
  {
   "cell_type": "code",
   "execution_count": null,
   "id": "d492490d-0620-4551-a5aa-f4e2784ef934",
   "metadata": {},
   "outputs": [],
   "source": [
    "clusters4 = kmeans4.fit_predict(bsa_z4)\n",
    "\n",
    "bsa_z4['Cluster'] = clusters4\n",
    "\n",
    "# Standardize the data for PCA\n",
    "scaler4 = StandardScaler()\n",
    "stand_data_scaled4 = scaler4.fit_transform(bsa_z4)\n",
    "\n",
    "pca4 = PCA(n_components=2).fit(stand_data_scaled4)\n",
    "pca_result4 = pca4.transform(stand_data_scaled4)\n",
    "\n",
    "# calculating percentage variance\n",
    "variance_ratio4 = pca4.explained_variance_ratio_"
   ]
  },
  {
   "cell_type": "code",
   "execution_count": null,
   "id": "167a116b-8fdf-4d27-ad26-9cd1f9119dc5",
   "metadata": {},
   "outputs": [],
   "source": [
    "# printing a scatter plot for results\n",
    "plt.figure(figsize=(12, 8))\n",
    "fig = px.scatter(x=pca_result4[:, 0], y=pca_result4[:, 1], color=clusters4,\n",
    "                 labels={'color': 'Cluster'},\n",
    "                 title='York BSA Synthetic Dataset: Cluster Plot against first two Principal Components',\n",
    "                 opacity=0.7,\n",
    "                 width=800, \n",
    "                 height=800)\n",
    "\n",
    "plt.tight_layout()\n",
    "fig.show()\n",
    "\n",
    "print(f\"These two components explain {(variance_ratio4.sum()*100):.2f}% of the point variability.\")"
   ]
  },
  {
   "cell_type": "code",
   "execution_count": null,
   "id": "3ffa20cc-47a4-4745-90a3-afafc7a0cdb1",
   "metadata": {},
   "outputs": [],
   "source": [
    "plt.figure(figsize=(10, 6))\n",
    "sns.scatterplot(x=pca_result4[:, 0], y=pca_result4[:, 1], hue=clusters4, palette='viridis', s=50, alpha=0.7)\n",
    "plt.title('Cluster Plot against 1st 2 Principal Components')\n",
    "plt.xlabel(f'Principal Component 1 variation: {variance_ratio4[0]*100:.2f}%')\n",
    "plt.ylabel(f'Principal Component 2 variation: {variance_ratio4[1]*100:.2f}%')\n",
    "plt.legend(title='Clusters')\n",
    "plt.show()"
   ]
  },
  {
   "cell_type": "code",
   "execution_count": null,
   "id": "76a1ebaa-1aa6-4135-bc1d-e02c09d655dd",
   "metadata": {},
   "outputs": [],
   "source": [
    "cluster_centers_k4 = pd.DataFrame(kmeans4.cluster_centers_, columns=bsa_z4.columns, )\n",
    "cluster_centers_k4.to_csv(\"data/cluster_centers_k4.csv\", index=False)\n",
    "cluster_centers_k4.head()"
   ]
  },
  {
   "cell_type": "code",
   "execution_count": null,
   "id": "1bebdad4-3e89-4d33-b273-df7a2d221efc",
   "metadata": {},
   "outputs": [],
   "source": [
    "# looking at the characteristics of the first cluster\n",
    "first_row_centers_k4 = cluster_centers_k4.iloc[0, :]\n",
    "\n",
    "# saving the length of features\n",
    "num_features_k4 = len(first_row_centers_k4)\n",
    "\n",
    "# getting the polar coordinates\n",
    "theta_k4 = np.linspace(0, 2 * np.pi, num_features_k4, endpoint=True)\n",
    "\n",
    "fig, ax = plt.subplots(subplot_kw={'projection': 'polar'})\n",
    " # plots the centres\n",
    "ax.plot(theta_k4, first_row_centers_k4, linewidth=1, color='blue', marker='o', label='Centers')\n",
    "\n",
    " # adding the red line into the plot where the value is 0.0\n",
    "ax.plot(theta_k4, np.zeros_like(first_row_centers_k4), color='red', linestyle='--', label='Avarage')\n",
    "\n",
    "ax.set_xticks(theta_k4)\n",
    "ax.set_xticklabels(cluster_centers_k4.columns, rotation=45, ha='right')\n",
    "plt.title(\"Characteristics of Cluster 1\")\n",
    "plt.show()"
   ]
  },
  {
   "cell_type": "code",
   "execution_count": null,
   "id": "7833a768-90b9-42f5-bb6f-66cb55a0fdd8",
   "metadata": {},
   "outputs": [],
   "source": [
    "# looking at the characteristics of the second cluster\n",
    "second_row_centers_k4 = cluster_centers_k4.iloc[1, :]\n",
    "\n",
    "# saving the length of features\n",
    "num_features_k4 = len(second_row_centers_k4)\n",
    "\n",
    "# getting the polar coordinates\n",
    "theta_k4 = np.linspace(0, 2 * np.pi, num_features_k4, endpoint=True)\n",
    "\n",
    "fig, ax = plt.subplots(subplot_kw={'projection': 'polar'})\n",
    " # plots the centres\n",
    "ax.plot(theta_k4, second_row_centers_k4, linewidth=1, color='blue', marker='o', label='Centers')\n",
    "\n",
    " # adding the red line into the plot where the value is 0.0\n",
    "ax.plot(theta_k4, np.zeros_like(second_row_centers_k4), color='red', linestyle='--', label='Avarage')\n",
    "\n",
    "ax.set_xticks(theta_k4)\n",
    "ax.set_xticklabels(cluster_centers_k4.columns, rotation=45, ha='right')\n",
    "plt.title(\"Characteristics of Cluster 2\")\n",
    "plt.show()"
   ]
  },
  {
   "cell_type": "code",
   "execution_count": null,
   "id": "1661118e-5b2e-49b6-8535-13d984681e69",
   "metadata": {},
   "outputs": [],
   "source": [
    "# looking at the characteristics of the third cluster\n",
    "third_row_centers_k4 = cluster_centers_k4.iloc[2, :]\n",
    "\n",
    "# saving the length of features\n",
    "num_features_k4 = len(third_row_centers_k4)\n",
    "\n",
    "# getting the polar coordinates\n",
    "theta_k4 = np.linspace(0, 2 * np.pi, num_features_k4, endpoint=True)\n",
    "\n",
    "fig, ax = plt.subplots(subplot_kw={'projection': 'polar'})\n",
    " # plots the centres\n",
    "ax.plot(theta_k4, third_row_centers_k4, linewidth=1, color='blue', marker='o', label='Centers')\n",
    "\n",
    " # adding the red line into the plot where the value is 0.0\n",
    "ax.plot(theta_k4, np.zeros_like(third_row_centers_k4), color='red', linestyle='--', label='Avarage')\n",
    "\n",
    "ax.set_xticks(theta_k4)\n",
    "ax.set_xticklabels(cluster_centers_k4.columns, rotation=45, ha='right')\n",
    "plt.title(\"Characteristics of Cluster 3\")\n",
    "plt.show()"
   ]
  },
  {
   "cell_type": "code",
   "execution_count": null,
   "id": "07a87539-23e9-469c-9be2-9142870d08f1",
   "metadata": {},
   "outputs": [],
   "source": [
    "# looking at the characteristics of the forth cluster\n",
    "forth_row_centers_k4 = cluster_centers_k4.iloc[3, :]\n",
    "\n",
    "# saving the length of features\n",
    "num_features_k4 = len(forth_row_centers_k4)\n",
    "\n",
    "# getting the polar coordinates\n",
    "theta_k4 = np.linspace(0, 2 * np.pi, num_features_k4, endpoint=True)\n",
    "\n",
    "fig, ax = plt.subplots(subplot_kw={'projection': 'polar'})\n",
    "ax.plot(theta_k4, forth_row_centers_k4, linewidth=1, color='blue', marker='o', label='Centers')\n",
    "\n",
    " # adding the red line into the plot where the value is 0.0\n",
    "ax.plot(theta_k4, np.zeros_like(third_row_centers_k4), color='red', linestyle='--', label='Avarage')\n",
    "\n",
    "ax.set_xticks(theta_k4)\n",
    "ax.set_xticklabels(cluster_centers_k4.columns, rotation=45, ha='right')\n",
    "plt.title(\"Characteristics of Cluster 4\")\n",
    "plt.show()"
   ]
  },
  {
   "cell_type": "markdown",
   "id": "491bfac2-285a-444e-a1f2-1954457070dc",
   "metadata": {},
   "source": [
    "### Test 3: Five Clusters\n",
    "\n",
    "Carrying this out after testing clustering without age and sex included."
   ]
  },
  {
   "cell_type": "code",
   "execution_count": null,
   "id": "5f71234c-f7f8-43f5-87dc-a9195fd83c0b",
   "metadata": {},
   "outputs": [],
   "source": [
    "bsa_z5 = bsa_z.copy() # making a deep copy\n",
    "kmeans5 = KMeans(n_clusters=5, random_state=0) # defining our cluster number as 5 and defining a seed\n",
    "kmeans5.fit(bsa_z5)\n",
    "labels = kmeans5.predict(bsa_z5)\n",
    "cluster_centres5 = kmeans5.cluster_centers_\n",
    "\n",
    "bsa_z5['Cluster'] = kmeans5.labels_\n",
    "bsa_z5.to_csv(\"data/bsa_z5k.csv\", index=False) # saving this dataset with 5 clusters"
   ]
  },
  {
   "cell_type": "code",
   "execution_count": null,
   "id": "693c04ba-1b30-49b2-8dce-6875bafbb2ea",
   "metadata": {},
   "outputs": [],
   "source": [
    "clusters5 = kmeans5.fit_predict(bsa_z5)\n",
    "\n",
    "bsa_z5['Cluster'] = clusters5\n",
    "\n",
    "# Standardize the data for PCA\n",
    "scaler5 = StandardScaler()\n",
    "stand_data_scaled5 = scaler5.fit_transform(bsa_z5)\n",
    "\n",
    "pca5 = PCA(n_components=2).fit(stand_data_scaled5)\n",
    "pca_result5 = pca5.transform(stand_data_scaled5)\n",
    "\n",
    "# calculating percentage variance\n",
    "variance_ratio5 = pca5.explained_variance_ratio_"
   ]
  },
  {
   "cell_type": "code",
   "execution_count": null,
   "id": "d349b33c-6700-4f74-85b3-4810d26f8049",
   "metadata": {},
   "outputs": [],
   "source": [
    "# printing a scatter plot for results\n",
    "plt.figure(figsize=(12, 8))\n",
    "fig = px.scatter(x=pca_result5[:, 0], y=pca_result5[:, 1], color=clusters5,\n",
    "                 labels={'color': 'Cluster'},\n",
    "                 title='York BSA Synthetic Dataset: Cluster Plot against first two Principal Components',\n",
    "                 opacity=0.7,\n",
    "                 width=800, \n",
    "                 height=800)\n",
    "\n",
    "plt.tight_layout()\n",
    "fig.show()\n",
    "\n",
    "print(f\"These two components explain {(variance_ratio5.sum()*100):.2f}% of the point variability.\")"
   ]
  },
  {
   "cell_type": "code",
   "execution_count": null,
   "id": "03eed2f4-f99b-4056-962e-e41657638c2d",
   "metadata": {},
   "outputs": [],
   "source": [
    "plt.figure(figsize=(10, 6))\n",
    "sns.scatterplot(x=pca_result5[:, 0], y=pca_result5[:, 1], hue=clusters5, palette='viridis', s=50, alpha=0.7)\n",
    "plt.title('Cluster Plot against 1st 2 Principal Components')\n",
    "plt.xlabel(f'Principal Component 1 variation: {variance_ratio5[0]*100:.2f}%')\n",
    "plt.ylabel(f'Principal Component 2 variation: {variance_ratio5[1]*100:.2f}%')\n",
    "plt.legend(title='Clusters')\n",
    "plt.show()"
   ]
  },
  {
   "cell_type": "code",
   "execution_count": null,
   "id": "5941652f-bb35-40f1-84b0-6748810421c4",
   "metadata": {},
   "outputs": [],
   "source": [
    "cluster_centers_k5 = pd.DataFrame(kmeans5.cluster_centers_, columns=bsa_z5.columns, )\n",
    "cluster_centers_k5.to_csv(\"data/cluster_centers_k5.csv\", index=False)\n",
    "cluster_centers_k5.head()"
   ]
  },
  {
   "cell_type": "code",
   "execution_count": null,
   "id": "4edcc8be-13b6-4336-bb7b-769ad8e3e200",
   "metadata": {},
   "outputs": [],
   "source": [
    "# looking at the characteristics of the first cluster\n",
    "first_row_centers_k5 = cluster_centers_k5.iloc[0, :]\n",
    "\n",
    "# saving the length of features\n",
    "num_features_k5 = len(first_row_centers_k5)\n",
    "\n",
    "# getting the polar coordinates\n",
    "theta_k5 = np.linspace(0, 2 * np.pi, num_features_k5, endpoint=True)\n",
    "\n",
    "fig, ax = plt.subplots(subplot_kw={'projection': 'polar'})\n",
    " # plots the centres\n",
    "ax.plot(theta_k5, first_row_centers_k5, linewidth=1, color='blue', marker='o', label='Centers')\n",
    "\n",
    " # adding the red line into the plot where the value is 0.0\n",
    "ax.plot(theta_k5, np.zeros_like(first_row_centers_k5), color='red', linestyle='--', label='Avarage')\n",
    "\n",
    "ax.set_xticks(theta_k5)\n",
    "ax.set_xticklabels(cluster_centers_k5.columns, rotation=45, ha='right')\n",
    "plt.title(\"Characteristics of Cluster 1\")\n",
    "plt.show()"
   ]
  },
  {
   "cell_type": "code",
   "execution_count": null,
   "id": "d316434c-b897-4628-a96b-251c9541427c",
   "metadata": {},
   "outputs": [],
   "source": [
    "# looking at the characteristics of the second cluster\n",
    "second_row_centers_k5 = cluster_centers_k5.iloc[1, :]\n",
    "\n",
    "fig, ax = plt.subplots(subplot_kw={'projection': 'polar'})\n",
    "ax.plot(theta_k5, second_row_centers_k5, linewidth=1, color='blue', marker='o', label='Centers')\n",
    "ax.plot(theta_k5, np.zeros_like(second_row_centers_k5), color='red', linestyle='--', label='Avarage')\n",
    "\n",
    "ax.set_xticks(theta_k5)\n",
    "ax.set_xticklabels(cluster_centers_k5.columns, rotation=45, ha='right')\n",
    "plt.title(\"Characteristics of Cluster 2\")\n",
    "plt.show()"
   ]
  },
  {
   "cell_type": "code",
   "execution_count": null,
   "id": "efe5e98a-d979-4158-bc41-26107247c91a",
   "metadata": {},
   "outputs": [],
   "source": [
    "# looking at the characteristics of the third cluster\n",
    "third_row_centers_k5 = cluster_centers_k5.iloc[2, :]\n",
    "\n",
    "fig, ax = plt.subplots(subplot_kw={'projection': 'polar'})\n",
    "ax.plot(theta_k5, third_row_centers_k5, linewidth=1, color='blue', marker='o', label='Centers')\n",
    "ax.plot(theta_k5, np.zeros_like(third_row_centers_k5), color='red', linestyle='--', label='Avarage')\n",
    "\n",
    "ax.set_xticks(theta_k5)\n",
    "ax.set_xticklabels(cluster_centers_k5.columns, rotation=45, ha='right')\n",
    "plt.title(\"Characteristics of Cluster 3\")\n",
    "plt.show()"
   ]
  },
  {
   "cell_type": "code",
   "execution_count": null,
   "id": "82b9fd23-e5e7-490c-8757-26c67ddbb924",
   "metadata": {},
   "outputs": [],
   "source": [
    "# looking at the characteristics of the forth cluster\n",
    "forth_row_centers_k5 = cluster_centers_k5.iloc[3, :]\n",
    "\n",
    "fig, ax = plt.subplots(subplot_kw={'projection': 'polar'})\n",
    "ax.plot(theta_k5, forth_row_centers_k5, linewidth=1, color='blue', marker='o', label='Centers')\n",
    "ax.plot(theta_k5, np.zeros_like(forth_row_centers_k5), color='red', linestyle='--', label='Avarage')\n",
    "\n",
    "ax.set_xticks(theta_k5)\n",
    "ax.set_xticklabels(cluster_centers_k5.columns, rotation=45, ha='right')\n",
    "plt.title(\"Characteristics of Cluster 4\")\n",
    "plt.show()"
   ]
  },
  {
   "cell_type": "code",
   "execution_count": null,
   "id": "013c5890-f88a-4fda-a39e-b0b388e27a47",
   "metadata": {},
   "outputs": [],
   "source": [
    "# looking at the characteristics of the fifth cluster\n",
    "fifth_row_centers_k5 = cluster_centers_k5.iloc[4, :]\n",
    "\n",
    "fig, ax = plt.subplots(subplot_kw={'projection': 'polar'})\n",
    "ax.plot(theta_k5, fifth_row_centers_k5, linewidth=1, color='blue', marker='o', label='Centers')\n",
    "ax.plot(theta_k5, np.zeros_like(fifth_row_centers_k5), color='red', linestyle='--', label='Avarage')\n",
    "\n",
    "ax.set_xticks(theta_k5)\n",
    "ax.set_xticklabels(cluster_centers_k5.columns, rotation=45, ha='right')\n",
    "plt.title(\"Characteristics of Cluster 5\")\n",
    "plt.show()"
   ]
  },
  {
   "cell_type": "markdown",
   "id": "5a3b694f-9531-4e87-9634-9db9c06c0b04",
   "metadata": {},
   "source": [
    "## Step 8: Mapping the clusters\n",
    "\n",
    "From our testing we've settled on two clusters, which clusters areas 'right-leaning' and 'left-leaning'. The final step to our geodemographic is then mapping these clusters. Therefore we'll reimport the z-score dataframe we created based upon segmenting our zones into two clusters. We'll remove all of the z-score columns we've created, and add back all of the aggregate data we started with."
   ]
  },
  {
   "cell_type": "code",
   "execution_count": null,
   "id": "4314c78a-6857-4795-838e-3d18cb721cfd",
   "metadata": {},
   "outputs": [],
   "source": [
    "bsa_zscores = bsa_z2.copy()"
   ]
  },
  {
   "cell_type": "code",
   "execution_count": null,
   "id": "b750da82-3054-4354-a930-47b5b3328145",
   "metadata": {},
   "outputs": [],
   "source": [
    "bsa_zscores.columns"
   ]
  },
  {
   "cell_type": "code",
   "execution_count": null,
   "id": "ebdbf92e-d0c6-4f53-8ccf-ae5ff3b89a2a",
   "metadata": {},
   "outputs": [],
   "source": [
    "bsa_zscores.drop([\n",
    "    'polInter_yes',\n",
    "    'welf_pro',\n",
    "    'redist_pro', \n",
    "    'lean_left', 'lean_right', 'lean_centr',\n",
    "    'rel_christ', 'rel_nonchrist', 'rel_non', \n",
    "    'nat_british', 'nat_english',\n",
    "    'race_white', 'race_asian', 'race_mixed', 'race_other',\n",
    "    'disab_aff'], axis=1, inplace=True)\n",
    "bsa_zscores['Cluster'] = bsa_zscores['Cluster'].astype(str)\n",
    "bsa_zscores.info()"
   ]
  },
  {
   "cell_type": "code",
   "execution_count": null,
   "id": "f9d94f35-5d34-4275-9074-84e65ea86bb3",
   "metadata": {},
   "outputs": [],
   "source": [
    "final_BSA = pd.concat([BSA_geom, bsa_zscores], axis=1, ignore_index=False)\n",
    "final_BSA.head()"
   ]
  },
  {
   "cell_type": "code",
   "execution_count": null,
   "id": "05787ef9-2a0f-4d18-ae32-bdde9c249916",
   "metadata": {},
   "outputs": [],
   "source": [
    "def rename_column(x):\n",
    "    x = x.replace('0', 'Left-leaning')\n",
    "    x = x.replace('1', 'Right-leaning or Centrist')\n",
    "    return x\n",
    "\n",
    "final_BSA['Cluster'] = final_BSA['Cluster'].apply(rename_column)"
   ]
  },
  {
   "cell_type": "code",
   "execution_count": null,
   "id": "5de0115b-e461-4f57-8050-0dbf5ea7b2f3",
   "metadata": {},
   "outputs": [],
   "source": [
    "final_BSA.head()"
   ]
  },
  {
   "cell_type": "code",
   "execution_count": null,
   "id": "842c4117-7214-4067-bc17-39382ef53af3",
   "metadata": {},
   "outputs": [],
   "source": [
    "final_BSA.explore(column='Cluster', cmap='bwr', tiles='OpenStreetMap')"
   ]
  },
  {
   "cell_type": "code",
   "execution_count": null,
   "id": "6041074e-dd39-4929-b5b9-9e63655af99a",
   "metadata": {},
   "outputs": [],
   "source": []
  }
 ],
 "metadata": {
  "kernelspec": {
   "display_name": "Python 3 (ipykernel)",
   "language": "python",
   "name": "python3"
  },
  "language_info": {
   "codemirror_mode": {
    "name": "ipython",
    "version": 3
   },
   "file_extension": ".py",
   "mimetype": "text/x-python",
   "name": "python",
   "nbconvert_exporter": "python",
   "pygments_lexer": "ipython3",
   "version": "3.11.6"
  }
 },
 "nbformat": 4,
 "nbformat_minor": 5
}
