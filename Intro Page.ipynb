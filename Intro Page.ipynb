{
 "cells": [
  {
   "cell_type": "markdown",
   "id": "85613379-9f35-42c6-9168-d018a8888d9f",
   "metadata": {},
   "source": [
    "# GG4257 - Urban Analytics: A Toolkit for Sustainable Urban Development\n",
    "## Independent Research Project\n",
    "## General Information\n",
    "- Matriculation No.: 200022090\n",
    "- Degree Programme: Geography MA\n",
    "- Deadline Date: 4th April 2024 (11th April with extension)\n",
    "\n",
    "## GitHub Repository\n",
    "GitHub Link: https://github.com/saffytaylor/UA_Final\n",
    "\n",
    "## Declaration\n",
    "In submitting this assignment, I hereby confirm that I have read the University's statement on Good Academic Practice. The following work is my own. Significant academic debts and borrowings have been properly acknowledged and referenced. \n",
    "\n",
    "---"
   ]
  },
  {
   "cell_type": "code",
   "execution_count": null,
   "id": "3edac879-25a2-4547-b077-3edb0f0ea89f",
   "metadata": {},
   "outputs": [],
   "source": []
  }
 ],
 "metadata": {
  "kernelspec": {
   "display_name": "Python 3 (ipykernel)",
   "language": "python",
   "name": "python3"
  },
  "language_info": {
   "codemirror_mode": {
    "name": "ipython",
    "version": 3
   },
   "file_extension": ".py",
   "mimetype": "text/x-python",
   "name": "python",
   "nbconvert_exporter": "python",
   "pygments_lexer": "ipython3",
   "version": "3.11.6"
  }
 },
 "nbformat": 4,
 "nbformat_minor": 5
}
