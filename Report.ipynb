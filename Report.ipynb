{
 "cells": [
  {
   "cell_type": "markdown",
   "id": "c51752a0-ef21-4002-ac8d-15ad7423b075",
   "metadata": {},
   "source": [
    "# Project Title:"
   ]
  },
  {
   "cell_type": "markdown",
   "id": "e6f9d218-c307-4ff1-a182-e29fe4895781",
   "metadata": {},
   "source": [
    "## Abstract"
   ]
  },
  {
   "cell_type": "markdown",
   "id": "bb2b5308-9730-4a13-9985-154519537719",
   "metadata": {},
   "source": [
    "## Introduction:\n",
    "\n"
   ]
  },
  {
   "cell_type": "markdown",
   "id": "70c5cf46-1b23-427c-b7fd-dc54014677b3",
   "metadata": {},
   "source": [
    "## Methods\n",
    "In the project, we make use primarily of two main methodologies: spatial microsimulation to address the problem of a lack of granular data, and geodemographic clustering to demonstrate the benefits of having granular data, even when it is synthetically generating."
   ]
  },
  {
   "cell_type": "markdown",
   "id": "e7e50c7a-b1cc-4dda-aef3-55089242ca43",
   "metadata": {},
   "source": [
    "### Spatial microsimulation\n",
    "\n",
    "Spatial microsimulation is a relatively recent development in the discipline of microsimulation, \n",
    "\n",
    "In this study, we employ the use of a static microsimulation, to develop aggregate data from the British Attitude Survey to create a microsimulation of York, in the UK. \n"
   ]
  },
  {
   "cell_type": "markdown",
   "id": "70ee5d54-dcf9-4f42-be73-4e6f9846dee5",
   "metadata": {},
   "source": [
    "### Geodemographics\n",
    "\n",
    "In order to carry out geodemographic clustering, we must further process the data we made using spatial microsimulation. The data we produced in the previous methodology is granular data, representing individuals in York. However, in order to carry out a k-means clustering (as we do here), the data needs to be in aggregate format. We do this in our <a href=\"cleaning.ipynb#Cleaning-for-Geodemographics\">cleaning section</a>, by subsetting the BSA dataframe by categories (age, sex, whether they voted in the last election or not etcetera) and using the pandas 'pivot' function to change the index to 'geo_codes', effectively aggregating the table, and then grouping the data by value and electoral zone, and adding these into a new dataframe. \n",
    "\n",
    "Next we go about selecting our variables. We're trying to create a geodemographic cluster model \n",
    "| Data | Topic | Description | \n",
    "| ------ | --- | --- |\n",
    "| Age | Demographic | Including a categorical measure of age to see if there are differences in individuals over the age of 65 versus the rest of the population. Age is also a core demographic characteristic, and is often considered necessary to include in all studies of demography. |\n",
    "| Sex | Demographic | Same as age, sex is often regarded as a core demographic characteristic to be included in all demographic studies. |\n",
    "| Party support | Political | Indication of which political party the individual most alligned themselves with at the time of the survey. |\n",
    "| Political interest | Political/social | Does the participant consider themselves to be interested in politics. |\n",
    "| Welfare opinions | Political/social | What does the participant think of the current welfare system? Are they pro welfare or anti? |\n",
    "| Left/right | Social | Does the participant consider themselves more on the left, right, or centre of the political scale? |\n",
    "| Liberal/authoritarian | Social | Does the participant consider themselves to be more of the libertarian or an authoritarian? |\n",
    "| Religion |\n",
    "| National identity |\n",
    "| Racial origin |\n",
    "| Disability |\n"
   ]
  },
  {
   "cell_type": "markdown",
   "id": "95c3e9c2-4dbc-443a-af7c-21284beb058a",
   "metadata": {},
   "source": [
    "## Results"
   ]
  },
  {
   "cell_type": "markdown",
   "id": "09ed0f83-86c1-4cfc-8561-a3c006c142c8",
   "metadata": {},
   "source": [
    "## Discussion"
   ]
  },
  {
   "cell_type": "markdown",
   "id": "614167d5-82f5-4c17-a145-181b8364293d",
   "metadata": {},
   "source": [
    "## Conclusion"
   ]
  },
  {
   "cell_type": "markdown",
   "id": "18f1878b-5570-46ef-9cc6-71c62457109f",
   "metadata": {},
   "source": [
    "---\n",
    "\n",
    "## References\n",
    "\n",
    "- Lovelace, R and Ballas, D. (2013) '‘Truncate, replicate, sample’: A method for creating integer weights for spatial microsimulation', in *Computers, Environment and Urban Systems*. 41. pp.1-11. doi: https://doi.org/10.1016/j.compenvurbsys.2013.03.004"
   ]
  },
  {
   "cell_type": "code",
   "execution_count": null,
   "id": "1b6817fa-454e-48c7-be71-f9c35363fad3",
   "metadata": {},
   "outputs": [],
   "source": []
  }
 ],
 "metadata": {
  "kernelspec": {
   "display_name": "Python 3 (ipykernel)",
   "language": "python",
   "name": "python3"
  },
  "language_info": {
   "codemirror_mode": {
    "name": "ipython",
    "version": 3
   },
   "file_extension": ".py",
   "mimetype": "text/x-python",
   "name": "python",
   "nbconvert_exporter": "python",
   "pygments_lexer": "ipython3",
   "version": "3.11.6"
  }
 },
 "nbformat": 4,
 "nbformat_minor": 5
}
